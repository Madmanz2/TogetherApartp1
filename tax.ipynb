{
  "nbformat": 4,
  "nbformat_minor": 0,
  "metadata": {
    "colab": {
      "provenance": [],
      "authorship_tag": "ABX9TyPXjqnuOVUc4tUF49m4QHgb",
      "include_colab_link": true
    },
    "kernelspec": {
      "name": "python3",
      "display_name": "Python 3"
    },
    "language_info": {
      "name": "python"
    }
  },
  "cells": [
    {
      "cell_type": "markdown",
      "metadata": {
        "id": "view-in-github",
        "colab_type": "text"
      },
      "source": [
        "<a href=\"https://colab.research.google.com/github/Madmanz2/TogetherApartp1/blob/main/tax.ipynb\" target=\"_parent\"><img src=\"https://colab.research.google.com/assets/colab-badge.svg\" alt=\"Open In Colab\"/></a>"
      ]
    },
    {
      "cell_type": "code",
      "execution_count": 38,
      "metadata": {
        "id": "vLhT4UML0qlS"
      },
      "outputs": [],
      "source": [
        "def taxCalculator(cost):\n",
        "  tax = cost*0.06\n",
        "  roundedtax = round(tax, 2)\n",
        "  return roundedtax"
      ]
    },
    {
      "cell_type": "code",
      "source": [
        "taxCalculator(9)\n"
      ],
      "metadata": {
        "colab": {
          "base_uri": "https://localhost:8080/"
        },
        "id": "7uVRH8A909CI",
        "outputId": "f8c3bcf1-cfb6-4c32-cec1-bafcbadff965"
      },
      "execution_count": 40,
      "outputs": [
        {
          "output_type": "execute_result",
          "data": {
            "text/plain": [
              "0.54"
            ]
          },
          "metadata": {},
          "execution_count": 40
        }
      ]
    }
  ]
}