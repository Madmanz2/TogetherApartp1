{
  "nbformat": 4,
  "nbformat_minor": 0,
  "metadata": {
    "colab": {
      "provenance": [],
      "include_colab_link": true
    },
    "kernelspec": {
      "name": "python3",
      "display_name": "Python 3"
    },
    "language_info": {
      "name": "python"
    }
  },
  "cells": [
    {
      "cell_type": "markdown",
      "metadata": {
        "id": "view-in-github",
        "colab_type": "text"
      },
      "source": [
        "<a href=\"https://colab.research.google.com/github/Madmanz2/TogetherApartp1/blob/main/WorkingTogetherApartFinal.ipynb\" target=\"_parent\"><img src=\"https://colab.research.google.com/assets/colab-badge.svg\" alt=\"Open In Colab\"/></a>"
      ]
    },
    {
      "cell_type": "code",
      "execution_count": null,
      "metadata": {
        "id": "CjPZ-BJg0wvn"
      },
      "outputs": [],
      "source": [
        "def asgfhgfjdasd():\n",
        "  cost = 0\n",
        "  menu = ['Pizza', 'Burger', 'cheese']\n",
        "  print(\"Pizza / $5.00\")\n",
        "  print(\"Burger / $6.00\")\n",
        "  print(\"Cheese / $3.00\")\n",
        "\n",
        "  userinput = input(\"What would you like to eat?: \")\n",
        "  if 'pizza' in userinput:\n",
        "    cost += 5\n",
        "  if 'burger' in userinput:\n",
        "    cost += 6\n",
        "  if 'cheese' in userinput:\n",
        "    cost += 3\n",
        "  return cost + taxCalculator(cost)\n"
      ]
    },
    {
      "cell_type": "markdown",
      "source": [
        "This is the Main menu. You enter in the food that you want to eat and it returns the price along with the tax. The inputs are Pizza, Burger, and Cheese"
      ],
      "metadata": {
        "id": "kcxTin7U8vli"
      }
    },
    {
      "cell_type": "code",
      "source": [
        "#Calculates taxes\n",
        "def taxCalculator(cost):\n",
        "  tax = cost * 0.06\n",
        "  #Rounds the tax so there is not infinite decimal\n",
        "  roundedtax = round(tax, 2)\n",
        "  return roundedtax"
      ],
      "metadata": {
        "id": "78LSSpSp4ABN"
      },
      "execution_count": null,
      "outputs": []
    },
    {
      "cell_type": "code",
      "source": [
        "#Runs Mainfuntion + Smaller One\n",
        "mainmenu()"
      ],
      "metadata": {
        "colab": {
          "base_uri": "https://localhost:8080/"
        },
        "id": "6PLV6uJ02A5-",
        "outputId": "64a46079-7f36-43cf-8d49-d24464d10b1a"
      },
      "execution_count": null,
      "outputs": [
        {
          "output_type": "stream",
          "name": "stdout",
          "text": [
            "Pizza / $5.00\n",
            "Burger / $6.00\n",
            "Cheese / $3.00\n"
          ]
        }
      ]
    },
    {
      "cell_type": "code",
      "source": [
        "#Check this"
      ],
      "metadata": {
        "id": "xXI1s1jW8WwN"
      },
      "execution_count": null,
      "outputs": []
    }
  ]
}